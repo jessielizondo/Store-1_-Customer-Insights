{
 "cells": [
  {
   "cell_type": "markdown",
   "metadata": {},
   "source": [
    "# 🛒 Store 1 Customer Insights\n",
    "\n",
    "## 📌 Introducción  \n",
    "**Store 1**, una empresa de comercio electrónico, busca obtener información valiosa sobre su base de clientes. Para ello, ha encargado un análisis de datos centrado en tres aspectos clave:\n",
    "\n",
    "- La **edad** de los clientes  \n",
    "- Sus **compras anteriores**  \n",
    "- Las **categorías** de productos adquiridos  \n",
    "\n",
    "Este proyecto representa la **primera etapa** de una solución más completa y tiene como objetivo **preparar, explorar y analizar** los datos iniciales. Esta fase sienta las bases para estudios más avanzados y campañas de marketing más efectivas en la segunda parte del proyecto."
   ]
  },
  {
   "cell_type": "markdown",
   "metadata": {},
   "source": [
    "## 🎯 Problema de negocio  \n",
    "El comportamiento del cliente varía según su edad, intereses y hábitos. Comprender estos patrones desde el inicio permitirá a Store 1:\n",
    "\n",
    "- Segmentar a los clientes en grupos relevantes  \n",
    "- Lanzar campañas personalizadas y efectivas  \n",
    "- Identificar clientes valiosos para programas de fidelización"
   ]
  },
  {
   "cell_type": "markdown",
   "metadata": {},
   "source": [
    "## 🔍 Objetivos  \n",
    "✔ Explorar y limpiar los datos de clientes  \n",
    "✔ Identificar comportamientos de compra por edad y categoría  \n",
    "✔ Segmentar clientes según frecuencia y preferencias  \n",
    "✔ Apoyar estrategias de marketing basadas en datos\n"
   ]
  },
  {
   "cell_type": "markdown",
   "metadata": {},
   "source": [
    "## 📊 Métricas clave  \n",
    "📌 Métricas de clientes  \n",
    "- Distribución de edad  \n",
    "- Frecuencia de compra  \n",
    "- Segmentación por comportamiento\n",
    "\n",
    "📌 Métricas de productos  \n",
    "- Popularidad de categorías  \n",
    "- Cantidad de compras por tipo\n",
    "\n",
    "📌 Insights  \n",
    "- Relación entre edad y preferencias  \n",
    "- Visualización de patrones relevantes"
   ]
  },
  {
   "cell_type": "markdown",
   "metadata": {},
   "source": [
    "## 🗂 Descripción del conjunto de datos  \n",
    "Origen: Datos internos de Store 1  \n",
    "Resumen:  \n",
    "- Aprox. 1000 filas | Varias columnas  \n",
    "- Columnas clave:  \n",
    "  - `customer_id`  \n",
    "  - `age`  \n",
    "  - `purchase_date`  \n",
    "  - `category`  \n",
    "  - `purchase_value`"
   ]
  },
  {
   "cell_type": "markdown",
   "metadata": {},
   "source": [
    "## ⚙️ 1. Revisión de datos\n",
    "\r",
    "El cliente proporcionó los siguientes datos con formato de una lista de Python y con las siguientes columnas de datos:\n",
    "\n",
    "- **user_id:** Identificador único para cada usuario.\n",
    "- **user_name:** El nombre del usuario.\n",
    "- **user_age:** La edad del usuario.\n",
    "- **fav_categories:** Categorías favoritas de los artículos que compró el usuario, como 'ELECTRONICS', 'SPORT' y 'BOOKS' (ELECTRÓNICOS, DEPORTES y LIBROS), etc.\n",
    "- **total_spendings:** Una lista de números enteros que indican la cantidad total gastada en cada una de las categorías favoritas.\n",
    "tas.."
   ]
  },
  {
   "cell_type": "code",
   "execution_count": null,
   "metadata": {
    "id": "LfBCH4crxLOt"
   },
   "outputs": [],
   "source": [
    "users = [\n",
    "    ['32415', ' mike_reed ', 32.0, ['ELECTRONICS', 'SPORT', 'BOOKS'], [894, 213, 173]],\n",
    "    ['31980', 'kate morgan', 24.0, ['CLOTHES', 'BOOKS'], [439, 390]],\n",
    "    ['32156', ' john doe ', 37.0, ['ELECTRONICS', 'HOME', 'FOOD'], [459, 120, 99]],\n",
    "    ['32761', 'SAMANTHA SMITH', 29.0, ['CLOTHES', 'ELECTRONICS', 'BEAUTY'], [299, 679, 85]],\n",
    "    ['32984', 'David White', 41.0, ['BOOKS', 'HOME', 'SPORT'], [234, 329, 243]],\n",
    "    ['33001', 'emily brown', 26.0, ['BEAUTY', 'HOME', 'FOOD'], [213, 659, 79]],\n",
    "    ['33767', ' Maria Garcia', 33.0, ['CLOTHES', 'FOOD', 'BEAUTY'], [499, 189, 63]],\n",
    "    ['33912', 'JOSE MARTINEZ', 22.0, ['SPORT', 'ELECTRONICS', 'HOME'], [259, 549, 109]],\n",
    "    ['34009', 'lisa wilson ', 35.0, ['HOME', 'BOOKS', 'CLOTHES'], [329, 189, 329]],\n",
    "    ['34278', 'James Lee', 28.0, ['BEAUTY', 'CLOTHES', 'ELECTRONICS'], [189, 299, 579]],\n",
    "]\n"
   ]
  },
  {
   "cell_type": "markdown",
   "metadata": {
    "id": "QJa5xuF-Jm9T"
   },
   "source": [
    "📌 Store 1 tiene como objetivo garantizar la coherencia en la recopilación de datos. Como parte de esta iniciativa, se debe evaluar la calidad de los datos recopilados sobre los usuarios y las usuarias. Para esto, se revisaron los datos del primer usuario, Mike Reed, para identificar cualquier problema posible con ellos.\n"
   ]
  },
  {
   "cell_type": "code",
   "execution_count": 10,
   "metadata": {
    "id": "kvRIX_jfJm9U"
   },
   "outputs": [],
   "source": [
    "user_id = '32415'\n",
    "user_name = ' mike_reed '\n",
    "user_age = 32.0\n",
    "fav_categories = ['ELECTRONICS', 'SPORT', 'BOOKS']"
   ]
  },
  {
   "cell_type": "markdown",
   "metadata": {
    "id": "aZ40WbF5Jm9V"
   },
   "source": [
    "## 🧹 2. Limpieza y transformación de datos\n",
    "\n",
    "Primero, se corrigieron los problemas de la variable `user_name`, ya que tiene espacios innecesarios y un guion bajo como separador entre el nombre y el apellido. Luego, se dividió el `user_name`  actualizado en dos subcadenas para obtener una lista que contenga dos valores la cadena para el nombre y la cadena para el apellido. Finalmente, se corrigió el tipo de datos de la variable 'user_age'\n"
   ]
  },
  {
   "cell_type": "code",
   "execution_count": 2,
   "metadata": {
    "colab": {
     "base_uri": "https://localhost:8080/"
    },
    "id": "_uOLKjF8Jm9V",
    "outputId": "630b0663-620c-44a2-f0d1-4b7b4a592b0b"
   },
   "outputs": [
    {
     "name": "stdout",
     "output_type": "stream",
     "text": [
      "mike reed\n"
     ]
    }
   ],
   "source": [
    "user_name = ' mike_reed '\n",
    "user_name = user_name.strip() # escribe tu código aquí\n",
    "user_name = user_name.replace('_',' ') # escribe tu código aquí\n",
    "\n",
    "print(user_name)"
   ]
  },
  {
   "cell_type": "code",
   "execution_count": 4,
   "metadata": {
    "colab": {
     "base_uri": "https://localhost:8080/"
    },
    "id": "0mYAxetNJm9W",
    "outputId": "2128b910-489c-4939-cb24-6d0f6d45e877"
   },
   "outputs": [
    {
     "name": "stdout",
     "output_type": "stream",
     "text": [
      "['mike', 'reed']\n"
     ]
    }
   ],
   "source": [
    "user_name = 'mike reed'\n",
    "name_split = user_name.split() # escribe tu código aquí\n",
    "\n",
    "print(name_split)"
   ]
  },
  {
   "cell_type": "code",
   "execution_count": null,
   "metadata": {
    "colab": {
     "base_uri": "https://localhost:8080/"
    },
    "id": "g0FZSll4Jm9W",
    "outputId": "8b977bc7-e315-4a27-97ad-645570ed60bc"
   },
   "outputs": [
    {
     "name": "stdout",
     "output_type": "stream",
     "text": [
      "32\n"
     ]
    }
   ],
   "source": [
    "user_age = 32.0\n",
    "user_age = int(user_age) # escribe tu código aquí\n",
    "\n",
    "print(user_age)"
   ]
  },
  {
   "cell_type": "markdown",
   "metadata": {
    "id": "U0bvLZOVJm9W"
   },
   "source": [
    "💡 Se consideraron escenarios en los que el valor de `user_age` no se pueda convertir en un número entero. Para evitar que el sistema se bloquee, se creó un bucle try-except para convertir la variable `user_age` en un número entero y asigna el valor transformado a `user_age_int`. Si el intento falla, se muestra un mensaje pidiendo al usuario o la usuaria que proporcione su edad como un valor numérico con el mensaje: `Please provide your age as a numerical value.`"
   ]
  },
  {
   "cell_type": "code",
   "execution_count": 5,
   "metadata": {
    "colab": {
     "base_uri": "https://localhost:8080/"
    },
    "id": "bKxiA-voJm9W",
    "outputId": "829a78ce-a7a5-4195-c424-90e9982c63ce"
   },
   "outputs": [
    {
     "name": "stdout",
     "output_type": "stream",
     "text": [
      "Please provide your age as a numerical value.\n"
     ]
    }
   ],
   "source": [
    "user_age = 'treinta y dos'\n",
    "\n",
    "# escribe tu código aquí\n",
    "try:\n",
    "    user_age_int = int(user_age)\n",
    "    \n",
    "except:\n",
    "    print('Please provide your age as a numerical value.')"
   ]
  },
  {
   "cell_type": "markdown",
   "metadata": {},
   "source": [
    "## 🗒🔍 3. Solicitudes de Store 1\n",
    "El equipo de dirección de Store 1 hizo algunas solicitudes de cambios para su la lista de datos de sus clientes. Estas se cumplieron en los siguientes pasos:"
   ]
  },
  {
   "cell_type": "markdown",
   "metadata": {
    "id": "geo-WB0KW3Ji"
   },
   "source": [
    "### 🗒️ 3.1 Organización de datos\n",
    "La dirección pidió ayuda para organizar los datos de sus clientes para analizarlos y gestionarlos mejor.\n",
    "Se ordenó esta lista por ID de usuario de forma ascendente."
   ]
  },
  {
   "cell_type": "code",
   "execution_count": 6,
   "metadata": {
    "colab": {
     "base_uri": "https://localhost:8080/"
    },
    "id": "Re_QlnnLW3Jo",
    "outputId": "8b977bc7-e315-4a27-97ad-645570ed60bc"
   },
   "outputs": [
    {
     "name": "stdout",
     "output_type": "stream",
     "text": [
      "[['31980', 'kate morgan', 24.0, ['CLOTHES', 'BOOKS'], [439, 390]], ['32156', ' john doe ', 37.0, ['ELECTRONICS', 'HOME', 'FOOD'], [459, 120, 99]], ['32415', ' mike_reed ', 32.0, ['ELECTRONICS', 'SPORT', 'BOOKS'], [894, 213, 173]], ['32761', 'SAMANTHA SMITH', 29.0, ['CLOTHES', 'ELECTRONICS', 'BEAUTY'], [299, 679, 85]], ['32984', 'David White', 41.0, ['BOOKS', 'HOME', 'SPORT'], [234, 329, 243]], ['33001', 'emily brown', 26.0, ['BEAUTY', 'HOME', 'FOOD'], [213, 659, 79]], ['33767', ' Maria Garcia', 33.0, ['CLOTHES', 'FOOD', 'BEAUTY'], [499, 189, 63]], ['33912', 'JOSE MARTINEZ', 22.0, ['SPORT', 'ELECTRONICS', 'HOME'], [259, 549, 109]], ['34009', 'lisa wilson ', 35.0, ['HOME', 'BOOKS', 'CLOTHES'], [329, 189, 329]], ['34278', 'James Lee', 28.0, ['BEAUTY', 'CLOTHES', 'ELECTRONICS'], [189, 299, 579]]]\n"
     ]
    }
   ],
   "source": [
    "users = [\n",
    "    ['32415', ' mike_reed ', 32.0, ['ELECTRONICS', 'SPORT', 'BOOKS'], [894, 213, 173]],\n",
    "    ['31980', 'kate morgan', 24.0, ['CLOTHES', 'BOOKS'], [439, 390]],\n",
    "    ['32156', ' john doe ', 37.0, ['ELECTRONICS', 'HOME', 'FOOD'], [459, 120, 99]],\n",
    "    ['32761', 'SAMANTHA SMITH', 29.0, ['CLOTHES', 'ELECTRONICS', 'BEAUTY'], [299, 679, 85]],\n",
    "    ['32984', 'David White', 41.0, ['BOOKS', 'HOME', 'SPORT'], [234, 329, 243]],\n",
    "    ['33001', 'emily brown', 26.0, ['BEAUTY', 'HOME', 'FOOD'], [213, 659, 79]],\n",
    "    ['33767', ' Maria Garcia', 33.0, ['CLOTHES', 'FOOD', 'BEAUTY'], [499, 189, 63]],\n",
    "    ['33912', 'JOSE MARTINEZ', 22.0, ['SPORT', 'ELECTRONICS', 'HOME'], [259, 549, 109]],\n",
    "    ['34009', 'lisa wilson ', 35.0, ['HOME', 'BOOKS', 'CLOTHES'], [329, 189, 329]],\n",
    "    ['34278', 'James Lee', 28.0, ['BEAUTY', 'CLOTHES', 'ELECTRONICS'], [189, 299, 579]],\n",
    "]\n",
    "\n",
    "# escribe tu código aquí\n",
    "users.sort()\n",
    "print(users)"
   ]
  },
  {
   "cell_type": "markdown",
   "metadata": {
    "id": "VRqEQFJiJm9X"
   },
   "source": [
    "### 📐 3.2 Cálculo de la cantidad total gastada por usuario\n",
    "\n",
    " La dirección está interesada en conocer la cantidad total gastada por el usuario. Para esto, se cuenta con la información de los hábitos de consumo de los usuarios, incluyendo la cantidad gastada en cada una de sus categorías favoritas. \n"
   ]
  },
  {
   "cell_type": "code",
   "execution_count": 7,
   "metadata": {
    "colab": {
     "base_uri": "https://localhost:8080/"
    },
    "id": "sjNmuLsQJm9X",
    "outputId": "308483d6-8d3c-4763-9014-7e702307424f"
   },
   "outputs": [
    {
     "name": "stdout",
     "output_type": "stream",
     "text": [
      "1280\n"
     ]
    }
   ],
   "source": [
    "fav_categories_low = ['electronics', 'sport', 'books']\n",
    "spendings_per_category = [894, 213, 173]\n",
    "\n",
    "total_amount = sum(spendings_per_category) # escribe tu código aquí\n",
    "\n",
    "print(total_amount)\n"
   ]
  },
  {
   "cell_type": "markdown",
   "metadata": {
    "id": "zP0nVV5FJm9Y"
   },
   "source": [
    "### 📋 3.3 Resumen de la información del usuario\n",
    "\n",
    "La dirección de la empresa pidió resumir toda la información de un usuario. Se creó una cadena formateada que utiliza información de las variables `user_id`, `user_name` y `user_age`.\n",
    "\n",
    "Esta es la cadena final que se creó: `User 32415 is mike who is 32 years old.` (El usuario 32415 es Mike, quien tiene 32 años).\n"
   ]
  },
  {
   "cell_type": "code",
   "execution_count": 8,
   "metadata": {
    "colab": {
     "base_uri": "https://localhost:8080/"
    },
    "id": "8mlIJr4OJm9Y",
    "outputId": "909d84d1-5723-4676-fb2d-92f8a8c15b7b"
   },
   "outputs": [
    {
     "name": "stdout",
     "output_type": "stream",
     "text": [
      "User 32415 is mike who is 32 years old.\n"
     ]
    }
   ],
   "source": [
    "user_id = '32415'\n",
    "user_name = ['mike', 'reed']\n",
    "user_age = 32\n",
    "\n",
    "user_info = f\"User {user_id} is {user_name[0]} who is {user_age} years old.\" # escribe tu código aquí\n",
    "print(user_info)"
   ]
  },
  {
   "cell_type": "markdown",
   "metadata": {
    "id": "xOj8_G0ZO9mM"
   },
   "source": [
    "### 🧠  3.4 Cálculo de la cantidad de clientes registrados\n",
    "\n",
    "La dirección también quiere una forma fácil de conocer la cantidad de clientes con cuyos datos contamos. Se creó una cadena formateada que muestra la cantidad de datos de clientes registrados.\n"
   ]
  },
  {
   "cell_type": "code",
   "execution_count": 10,
   "metadata": {
    "colab": {
     "base_uri": "https://localhost:8080/"
    },
    "id": "eGvjS1rkO9mS",
    "outputId": "ce65761f-07d9-463e-e645-4a69c4c9cd9f"
   },
   "outputs": [
    {
     "name": "stdout",
     "output_type": "stream",
     "text": [
      "Hemos registrado datos de 10 clientes.\n"
     ]
    }
   ],
   "source": [
    "users = [\n",
    "    ['32415', ' mike_reed ', 32.0, ['ELECTRONICS', 'SPORT', 'BOOKS'], [894, 213, 173]],\n",
    "    ['31980', 'kate morgan', 24.0, ['CLOTHES', 'BOOKS'], [439, 390]],\n",
    "    ['32156', ' john doe ', 37.0, ['ELECTRONICS', 'HOME', 'FOOD'], [459, 120, 99]],\n",
    "    ['32761', 'SAMANTHA SMITH', 29.0, ['CLOTHES', 'ELECTRONICS', 'BEAUTY'], [299, 679, 85]],\n",
    "    ['32984', 'David White', 41.0, ['BOOKS', 'HOME', 'SPORT'], [234, 329, 243]],\n",
    "    ['33001', 'emily brown', 26.0, ['BEAUTY', 'HOME', 'FOOD'], [213, 659, 79]],\n",
    "    ['33767', ' Maria Garcia', 33.0, ['CLOTHES', 'FOOD', 'BEAUTY'], [499, 189, 63]],\n",
    "    ['33912', 'JOSE MARTINEZ', 22.0, ['SPORT', 'ELECTRONICS', 'HOME'], [259, 549, 109]],\n",
    "    ['34009', 'lisa wilson ', 35.0, ['HOME', 'BOOKS', 'CLOTHES'], [329, 189, 329]],\n",
    "    ['34278', 'James Lee', 28.0, ['BEAUTY', 'CLOTHES', 'ELECTRONICS'], [189, 299, 579]],\n",
    "]\n",
    "\n",
    "\n",
    "user_info = f\"Hemos registrado datos de {len(users)} clientes.\"  # escribe tu código aquí\n",
    "print(user_info)"
   ]
  },
  {
   "cell_type": "markdown",
   "metadata": {
    "id": "CVVBVYzORu7I"
   },
   "source": [
    "## ✅  4. Mejora de lista de clientes\n",
    "\n",
    "Se aplicaron todos los cambios anteriores a la lista de clientes. Además, para continuar limpiando los datos se eliminaron todos todos los espacios iniciales y finales de los nombres, así como cualquier guion bajo; se convirtieron todas las edades en números enteros; y, se separaron los nombres y apellidos en una sublista. "
   ]
  },
  {
   "cell_type": "code",
   "execution_count": 11,
   "metadata": {
    "colab": {
     "base_uri": "https://localhost:8080/"
    },
    "id": "9qu_k6XURu7O",
    "outputId": "0bfb6d81-56c3-4c21-fa54-aa09b9752082"
   },
   "outputs": [
    {
     "name": "stdout",
     "output_type": "stream",
     "text": [
      "[['mike', 'reed'], 32, ['kate', 'morgan'], 24, ['john', 'doe'], 37]\n"
     ]
    }
   ],
   "source": [
    "users = [\n",
    "    ['32415', ' mike_reed ', 32.0, ['ELECTRONICS', 'SPORT', 'BOOKS'], [894, 213, 173]],\n",
    "    ['31980', 'kate morgan', 24.0, ['CLOTHES', 'BOOKS'], [439, 390]],\n",
    "    ['32156', ' john doe ', 37.0, ['ELECTRONICS', 'HOME', 'FOOD'], [459, 120, 99]],\n",
    "]\n",
    "\n",
    "users_clean = []\n",
    "\n",
    "# Procesa al primer usuario\n",
    "user_name_1 = users[0][1].strip().replace('_',' ') # quitar espacios y guion bajo\n",
    "user_age_1 = int(users[0][2]) # float to int\n",
    "user_name_1 = user_name_1.split() # separar nombre y apellido\n",
    "users_clean.append(user_name_1) # agregar sublista user_name_1 a users_clean\n",
    "users_clean.append(user_age_1)\n",
    "\n",
    "# Procesa al segundo usuario\n",
    "user_name_2 = users[1][1].strip() # quitar espacios\n",
    "user_age_2 = int(users[1][2]) # float to int\n",
    "user_name_2 = user_name_2.split() # separar nombre y apellido\n",
    "users_clean.append(user_name_2) # agregar sublista user_name_2 a users_clean\n",
    "users_clean.append(user_age_2)\n",
    "\n",
    "# Procesa al tercer usuario\n",
    "user_name_3 = users[2][1].strip() # quitar espacios\n",
    "user_age_3 = int(users[2][2]) # float to int\n",
    "user_name_3 = user_name_3.split() # separar nombre y apellido\n",
    "users_clean.append(user_name_3) # agregar sublista user_name_3 a users_clean\n",
    "users_clean.append(user_age_3)\n",
    "\n",
    "\n",
    "print(users_clean)\n"
   ]
  },
  {
   "cell_type": "markdown",
   "metadata": {
    "id": "06IMoD_nRmtf"
   },
   "source": [
    "----------\n"
   ]
  },
  {
   "cell_type": "markdown",
   "metadata": {},
   "source": [
    "## ✅ Conclusiones y próximos pasos\n",
    "- Se identificaron segmentos de clientes clave por edad y comportamiento.\n",
    "- Las categorías más populares pueden utilizarse para campañas dirigidas.\n",
    "- Los clientes frecuentes ofrecen oportunidades de fidelización.\n",
    "\n",
    "**Próximos pasos:**\n",
    "- Implementar modelos de segmentación más avanzados.\n",
    "- Usar los resultados para pruebas A/B en campañas.\n",
    "\n",
    "---"
   ]
  }
 ],
 "metadata": {
  "ExecuteTimeLog": [
   {
    "duration": 11,
    "start_time": "2024-08-22T22:55:31.606Z"
   },
   {
    "duration": 5,
    "start_time": "2024-08-22T22:55:39.169Z"
   },
   {
    "duration": 4,
    "start_time": "2024-08-22T22:59:16.335Z"
   },
   {
    "duration": 4,
    "start_time": "2024-08-22T23:00:10.272Z"
   },
   {
    "duration": 4,
    "start_time": "2024-08-22T23:04:28.505Z"
   },
   {
    "duration": 10,
    "start_time": "2024-08-22T23:09:34.478Z"
   },
   {
    "duration": 5,
    "start_time": "2024-08-22T23:27:21.728Z"
   },
   {
    "duration": 6,
    "start_time": "2024-08-22T23:30:51.630Z"
   },
   {
    "duration": 12,
    "start_time": "2024-08-22T23:33:34.223Z"
   },
   {
    "duration": 18,
    "start_time": "2024-08-22T23:33:38.647Z"
   },
   {
    "duration": 10,
    "start_time": "2024-08-23T01:23:44.232Z"
   },
   {
    "duration": 24,
    "start_time": "2024-08-24T14:56:13.072Z"
   },
   {
    "duration": 15,
    "start_time": "2024-08-24T14:56:17.055Z"
   }
  ],
  "colab": {
   "provenance": []
  },
  "kernelspec": {
   "display_name": "Python 3",
   "language": "python",
   "name": "python3"
  },
  "language_info": {
   "codemirror_mode": {
    "name": "ipython",
    "version": 3
   },
   "file_extension": ".py",
   "mimetype": "text/x-python",
   "name": "python",
   "nbconvert_exporter": "python",
   "pygments_lexer": "ipython3",
   "version": "3.12.4"
  },
  "toc": {
   "base_numbering": 1,
   "nav_menu": {},
   "number_sections": true,
   "sideBar": true,
   "skip_h1_title": true,
   "title_cell": "Table of Contents",
   "title_sidebar": "Contents",
   "toc_cell": false,
   "toc_position": {},
   "toc_section_display": true,
   "toc_window_display": false
  }
 },
 "nbformat": 4,
 "nbformat_minor": 4
}
